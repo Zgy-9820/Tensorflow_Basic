{
 "cells": [
  {
   "cell_type": "markdown",
   "metadata": {},
   "source": [
    "### 1. 卷积计算过程"
   ]
  },
  {
   "cell_type": "markdown",
   "metadata": {},
   "source": [
    "#### 1.1 卷积计算可认为是一种有效提取图像特征的方法\n",
    "#### 1.2 一般会用一个正方形的卷积核，按指定步长，在输入特征图上滑动，遍历输入特征图中的每个像素点。每一个步长，卷积核会与输入的特征图出现重合区域，重合区域对应元素相乘并求和再加上偏置项得到输出特征的一个像素点。\n",
    "#### 1.3 (1) 输入特征图的深度(channel数)，决定了当前层卷积核的深度; (2) 当前层卷积核的个数，决定了当前层输出特征图的深度。"
   ]
  },
  {
   "cell_type": "markdown",
   "metadata": {},
   "source": [
    "### 2. 感受野(Receptive Field)\n",
    "#### 卷积神经网络各输出特征图中的每个像素点，在原始输入图片上映射区域的大小。"
   ]
  },
  {
   "cell_type": "markdown",
   "metadata": {},
   "source": [
    "### 3. 全零填充(Padding)\n",
    "#### 3.1 全0填充时：输入长 / 步长 (结果向上取整)\n",
    "#### 3.2 不全0填充时：(入长 - 核长 + 1) / 步长 (结果向上取整)\n",
    "#### 3.3 在tf中，使用全零填充和不使用全零填充分别用以下参数表示：\n",
    "#### padding = 'SAME'  和 padding = 'VALID'"
   ]
  }
 ],
 "metadata": {
  "kernelspec": {
   "display_name": "Python 3",
   "language": "python",
   "name": "python3"
  },
  "language_info": {
   "codemirror_mode": {
    "name": "ipython",
    "version": 3
   },
   "file_extension": ".py",
   "mimetype": "text/x-python",
   "name": "python",
   "nbconvert_exporter": "python",
   "pygments_lexer": "ipython3",
   "version": "3.8.3"
  }
 },
 "nbformat": 4,
 "nbformat_minor": 4
}
