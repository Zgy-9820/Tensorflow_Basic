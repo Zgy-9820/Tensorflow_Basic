{
 "cells": [
  {
   "cell_type": "markdown",
   "metadata": {},
   "source": [
    "### 池化用于减少特征数据量\n",
    "### 最大值池化可提取图片纹理，均值池化可保留背景特征"
   ]
  },
  {
   "cell_type": "markdown",
   "metadata": {},
   "source": [
    "### TF描述池化"
   ]
  },
  {
   "cell_type": "markdown",
   "metadata": {},
   "source": [
    "#### tf.keras.layers.MaxPool2D(\n",
    "#### pool_size=池化核尺寸， #正方形写核长整数，或（核高h，核宽w）\n",
    "#### strides=池化步长，#步长整数，或（纵向步长h，横向步长w），默认为pool_size\n",
    "#### padding='valid' or 'same' #使用全零填充是'same'，不使用是'valid'（默认）\n",
    "#### )"
   ]
  },
  {
   "cell_type": "markdown",
   "metadata": {},
   "source": [
    "#### tf.kereas.layers.AveragePooling2D(\n",
    "#### pool_size=池化核尺寸， #正方形写核长整数，或（核高h，核宽w）\n",
    "#### strides=池化步长，#步长整数，或（纵向步长h，横向步长w），默认为pool_size\n",
    "#### padding='valid' or 'same' #使用全零填充是'same'，不使用是'valid'（默认）\n",
    "#### )"
   ]
  },
  {
   "cell_type": "code",
   "execution_count": null,
   "metadata": {},
   "outputs": [],
   "source": [
    "model = tf.keras.models.Sequential([\n",
    "    Conv2D(filters=6, kernel_size=(5, 5), padding='same'), # 卷积层\n",
    "    BatchNormalization(), # BN层\n",
    "    Activation('relu'), # 激活层\n",
    "    MaxPool2D(pool_size=(2, 2), strides=2, padding='same'), # 池化层\n",
    "    Dropout(0.2), # dropout层\n",
    "])"
   ]
  }
 ],
 "metadata": {
  "kernelspec": {
   "display_name": "Python 3",
   "language": "python",
   "name": "python3"
  },
  "language_info": {
   "codemirror_mode": {
    "name": "ipython",
    "version": 3
   },
   "file_extension": ".py",
   "mimetype": "text/x-python",
   "name": "python",
   "nbconvert_exporter": "python",
   "pygments_lexer": "ipython3",
   "version": "3.8.3"
  }
 },
 "nbformat": 4,
 "nbformat_minor": 4
}
