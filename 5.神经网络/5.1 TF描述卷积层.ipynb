{
 "cells": [
  {
   "cell_type": "markdown",
   "metadata": {},
   "source": [
    "#### tf.keras.layers.Conv2D(\n",
    "#### filters = 卷积核个数\n",
    "#### kernel_size = 卷积核尺寸，# 正方形写核长整数，或（核高h，核宽w）\n",
    "#### strides = 滑动步长，# 横纵向相同写步长整数，或（纵向步长h，横向步长w），默认1\n",
    "#### padding = \"same\" or \"valid\"，# 使用全零填充是\"same\"，不使用是\"valid\"（默认）\n",
    "#### activation = \"relu\" or \"sigmoid\" or \"tanh\" or \"softmax\"等， # 如有BN此处不写\n",
    "#### input_shape = (高，宽，通道数) # 输入特征图维度，可省略\n",
    "#### )"
   ]
  },
  {
   "cell_type": "code",
   "execution_count": null,
   "metadata": {},
   "outputs": [],
   "source": [
    "model = tf.keras.models.Sequential([\n",
    "    Conv2D(6, 5, padding='valid', activation='sigmoid'),\n",
    "    MaxPool2D(2, 2),\n",
    "    Conv2D(6, (5, 5), padding='valid', activation='sigmoid'),\n",
    "    MaxPool2D(2, (2, 2)),\n",
    "    Conv2D(filters=6, kernel_size=(5, 5), padding='valid', activation='sigmoid'),\n",
    "    MaxPool2D(pool_size=(2, 2), strides=2),\n",
    "    Flatten(),\n",
    "    Dense(10, activation='softmax')\n",
    "])"
   ]
  }
 ],
 "metadata": {
  "kernelspec": {
   "display_name": "Python 3",
   "language": "python",
   "name": "python3"
  },
  "language_info": {
   "codemirror_mode": {
    "name": "ipython",
    "version": 3
   },
   "file_extension": ".py",
   "mimetype": "text/x-python",
   "name": "python",
   "nbconvert_exporter": "python",
   "pygments_lexer": "ipython3",
   "version": "3.8.3"
  }
 },
 "nbformat": 4,
 "nbformat_minor": 4
}
