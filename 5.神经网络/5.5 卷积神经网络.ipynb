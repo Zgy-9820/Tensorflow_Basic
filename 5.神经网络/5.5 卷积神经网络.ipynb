{
 "cells": [
  {
   "cell_type": "markdown",
   "metadata": {},
   "source": [
    "### 卷积神经网络就是借助卷积核对输入特征进行特征提取，再把提取到的特征送入全连接网络进行识别预测。\n",
    "### 提取特征包括：卷积，批标准化，激活，池化四步\n",
    "### 卷积就是特征提取器，就是CBAPD\n",
    "### C 是卷积计算Conv2D\n",
    "### B 是批标准化BN\n",
    "### A 是激活函数Activation\n",
    "### P 是池化Pooling\n",
    "### D 是舍弃Dropout"
   ]
  }
 ],
 "metadata": {
  "kernelspec": {
   "display_name": "Python 3",
   "language": "python",
   "name": "python3"
  },
  "language_info": {
   "codemirror_mode": {
    "name": "ipython",
    "version": 3
   },
   "file_extension": ".py",
   "mimetype": "text/x-python",
   "name": "python",
   "nbconvert_exporter": "python",
   "pygments_lexer": "ipython3",
   "version": "3.8.3"
  }
 },
 "nbformat": 4,
 "nbformat_minor": 4
}
