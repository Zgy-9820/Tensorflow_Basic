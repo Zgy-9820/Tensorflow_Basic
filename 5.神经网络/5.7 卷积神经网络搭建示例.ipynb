{
 "cells": [
  {
   "cell_type": "markdown",
   "metadata": {},
   "source": [
    "### 用卷积神经网络训练cifar10数据集，搭建一个一层卷积，两层全连接的网络\n",
    "#### 1. 使用6个5×5的卷积核\n",
    "#### 2. 过2×2的池化核，池化步长是2\n",
    "#### 3. 过128个神经元的全连接层\n",
    "#### 4. 由于Cifar10是10分类，所以最后还要过一层十个神经元的全连接层"
   ]
  },
  {
   "cell_type": "markdown",
   "metadata": {},
   "source": [
    "#### --------------------------------------------------------------------------------------------------------------"
   ]
  },
  {
   "cell_type": "markdown",
   "metadata": {},
   "source": [
    "#### C（核：6* 5* 5，步长：1，填充：same）\n",
    "#### B（Yes）\n",
    "#### A（relu）\n",
    "#### P（max，核：2*2，步长：2，填充：same）\n",
    "#### D（0.2）\n",
    "\n",
    "#### Flatten\n",
    "#### Dense（神经元：128，激活：relu，Dropout：0.2）\n",
    "#### Dense（神经元：10，激活：softmax）"
   ]
  },
  {
   "cell_type": "code",
   "execution_count": null,
   "metadata": {},
   "outputs": [],
   "source": [
    "class Baseline(Model):\n",
    "    def __init__(self):\n",
    "        super(Baseline, self).__init__()\n",
    "        self.c1 = Conv2D(filters=6, kernel_size=(5, 5), padding='same')\n",
    "        self.b1 = BatchNormalization()\n",
    "        self.a1 = Activation('relu')\n",
    "        self.p1 = MaxPool2D(pool_size=(2, 2), strides=2, padding='same')\n",
    "        self.d1 = Dropout(0.2)\n",
    "        \n",
    "        self.flatten = Flatten()\n",
    "        self.f1 = Dense(128, activation='relu')\n",
    "        self.d2 = Dropout(0.2)\n",
    "        self.f2 = Dense(10, activation='softmax')\n",
    "    def call(self, x):\n",
    "        x = self.c1(x)\n",
    "        x = self.b1(x)\n",
    "        x = self.a1(x)\n",
    "        x = self.p1(x)\n",
    "        x = self.d1(x)\n",
    "        \n",
    "        x = self.flatten(x)\n",
    "        x = self.f1(x)\n",
    "        x = self.d2(x)\n",
    "        x = self.f2(x)\n",
    "        return y"
   ]
  }
 ],
 "metadata": {
  "kernelspec": {
   "display_name": "Python 3",
   "language": "python",
   "name": "python3"
  },
  "language_info": {
   "codemirror_mode": {
    "name": "ipython",
    "version": 3
   },
   "file_extension": ".py",
   "mimetype": "text/x-python",
   "name": "python",
   "nbconvert_exporter": "python",
   "pygments_lexer": "ipython3",
   "version": "3.8.3"
  }
 },
 "nbformat": 4,
 "nbformat_minor": 4
}
