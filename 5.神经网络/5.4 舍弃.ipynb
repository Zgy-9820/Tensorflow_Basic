{
 "cells": [
  {
   "cell_type": "markdown",
   "metadata": {},
   "source": [
    "### 为了缓解神经网络过拟合，在神经网络训练过程中，常把隐藏层的部分神经元按照一定比例从神经网络中暂时舍弃。在使用神经网络时，再把所有神经元恢复到神经网络中。"
   ]
  },
  {
   "cell_type": "markdown",
   "metadata": {},
   "source": [
    "### TF描述舍弃\n",
    "#### tf.keras.layers.Dropout(舍弃的概率)"
   ]
  },
  {
   "cell_type": "code",
   "execution_count": null,
   "metadata": {},
   "outputs": [],
   "source": [
    "model = tf.keras.models.Sequential([\n",
    "    Conv2D(filters=6, kernel_size=(5, 5), padding='same'), # 卷积层\n",
    "    BatchNormalization(), # BN层\n",
    "    Activation('relu'), # 激活层\n",
    "    MaxPool2D(pool_size=(2, 2), strides=2, padding='same'), # 池化层\n",
    "    Dropout(0.2), # dropout层,  0.2表示随机舍弃20%的神经元\n",
    "])"
   ]
  }
 ],
 "metadata": {
  "kernelspec": {
   "display_name": "Python 3",
   "language": "python",
   "name": "python3"
  },
  "language_info": {
   "codemirror_mode": {
    "name": "ipython",
    "version": 3
   },
   "file_extension": ".py",
   "mimetype": "text/x-python",
   "name": "python",
   "nbconvert_exporter": "python",
   "pygments_lexer": "ipython3",
   "version": "3.8.3"
  }
 },
 "nbformat": 4,
 "nbformat_minor": 4
}
