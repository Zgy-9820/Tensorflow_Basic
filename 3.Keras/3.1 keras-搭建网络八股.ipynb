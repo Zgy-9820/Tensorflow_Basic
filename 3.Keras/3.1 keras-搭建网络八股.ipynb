{
 "cells": [
  {
   "cell_type": "markdown",
   "metadata": {},
   "source": [
    "## 用Tensorflow API: tf.keras搭建网络八股"
   ]
  },
  {
   "cell_type": "markdown",
   "metadata": {},
   "source": [
    "### 六步法"
   ]
  },
  {
   "cell_type": "markdown",
   "metadata": {},
   "source": [
    "#### 1. import\n",
    "#### 2. train, test\n",
    "#### 3. model = tf.keras.model.Sequential (在Sequential中搭建网络结构，逐层描述每层网络，相当于走一便前向传播) / Class\n",
    "#### 4. model.compile (在compile()中配置神经网络的训练方法，告知训练时选择：哪种优化器/哪个损失函数/哪种评测指标)\n",
    "#### 5. model.fit (执行训练过程，告知：训练集和测试集的输入特征和标签/每个batch是多少/要迭代多少次数据集)\n",
    "#### 6. model.summary (用summary()打印出网络的结构和参数统计)"
   ]
  },
  {
   "cell_type": "markdown",
   "metadata": {},
   "source": [
    "## 1. model = tf.keras.models.Sequential([网络结构]) #描述各层网络\n",
    "### 网络结构举例：\n",
    "#### 1). 拉值层：tf.keras.layers.Flatten()\n",
    "#### 2). 全连接层：tf.keras.layers.Dense(神经元个数, activation=\"激活函数\", kernel_regularizer=\"哪种正则化\")\n",
    "####      activation(字符串给出)可选：relu/softmax/sigmoid/tanh\n",
    "####      kernel_regularizer可选：tf.keras.regularizers.l1()/tf.keras.regularizers.l2()\n",
    "#### 3). 卷积层：tf.keras.layers.Conv2D(filters=卷积核个数, kernel_size=卷积核尺寸, strides=卷积步长, padding=\"valid\" or \"same\")\n",
    "#### 4). LSTM层：tf.keras.layers.LSTM()"
   ]
  },
  {
   "cell_type": "markdown",
   "metadata": {},
   "source": [
    "## 2. model.compile(optimizer=优化器, loss=损失函数, metrics=[\"准确率\"])\n",
    "#### 1). optimizer可选：\n",
    "#### 'sgd' or tf.keras.optimizers.SGD(lr=学习率, momentum=动量参数)\n",
    "#### 'adagrad' or tf.keras.optimizers.Adagrad(lr=学习率)\n",
    "#### 'adadelta' or tf.keras.optimizers.Adadelta(lr=学习率)\n",
    "#### 'adam' or tf.keras.optimizers.Adam(lr=学习率, beta_1=0.9, beta_2=0.999)\n",
    "#### 2). loss可选：\n",
    "#### 'mse' or tf.keras.losses.MeanSquaredError()\n",
    "#### 'sparse_categorical_crossentropy' or tf.keras.losses.SparseCategoricalCrossentropy(from_logits=False)\n",
    "#### 常使用上述选项，其中from_logits询问是否原始(未经概率分布)的输出，如果神经网络预测结果输出前经过了概率分布为False，直接输出为True\n",
    "#### 3) metrics(告知网络评测指标)可选：\n",
    "#### 'accuracy'：y_和y 都是数值，如y_=[1] y=[1]\n",
    "#### 'categorical_accuracy'：y_和y都是独热码(概率分布)，如y_=[0, 1, 0] y=[0.256, 0.695, 0.048]\n",
    "#### 'sparse_categorical_accuracy'：y_是数值，y是独热码(概率分布)，如y_=[1] y=[0.256, 0.695, 0.048]\n",
    "#### 例子都是以数值形式给出标签，以概率分布形式表示输出，所以选用sparse_categorical_accuracy作为评测指标"
   ]
  },
  {
   "cell_type": "markdown",
   "metadata": {},
   "source": [
    "## 3. model.fit()\n",
    "#### model.fit(训练集的输入特征, 训练集的标签,\n",
    "#### batch_size= , epochs= , \n",
    "#### validation_data=(测试集的输入特征, 测试集的标签),  \n",
    "#### validation_split=从训练集划分多少比例给测试集,  \n",
    "#### validation_freq=多少次epoch测试一次准确率)\n",
    "\n",
    "#### (ps. validation_data和validation_freq选择一种)"
   ]
  }
 ],
 "metadata": {
  "kernelspec": {
   "display_name": "Python 3",
   "language": "python",
   "name": "python3"
  },
  "language_info": {
   "codemirror_mode": {
    "name": "ipython",
    "version": 3
   },
   "file_extension": ".py",
   "mimetype": "text/x-python",
   "name": "python",
   "nbconvert_exporter": "python",
   "pygments_lexer": "ipython3",
   "version": "3.8.3"
  }
 },
 "nbformat": 4,
 "nbformat_minor": 4
}
