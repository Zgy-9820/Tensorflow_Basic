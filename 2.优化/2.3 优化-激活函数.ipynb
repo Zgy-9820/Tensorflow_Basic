{
 "cells": [
  {
   "cell_type": "markdown",
   "metadata": {},
   "source": [
    "### 1. Sigmoid函数：tf.nn.sigmoid(x)\n",
    "### sigmiod函数对输入进行了归一化，把输入值变换到0-1之间输出"
   ]
  },
  {
   "cell_type": "markdown",
   "metadata": {},
   "source": [
    "### 2. Tanh函数：tf.nn.tanh(x)"
   ]
  },
  {
   "cell_type": "markdown",
   "metadata": {},
   "source": [
    "### 3. Relu函数：tf.nn.relu(x) (首选relu做激活函数)"
   ]
  },
  {
   "cell_type": "markdown",
   "metadata": {},
   "source": [
    "### 4. Leaky Relu函数：tf.nn.leaky_relu(x)\n",
    "### leaky relu是为解决relu负区间为0引起神经元死亡问题而设计的"
   ]
  },
  {
   "cell_type": "markdown",
   "metadata": {},
   "source": [
    "### 5. 建议：\n",
    "### 1) 首选relu激活函数\n",
    "### 2) 学习率设置较小值\n",
    "### 3) 输入特征标准化，即让输入特征满足以0为均值，1为标准差的正态分布\n",
    "### 4) 初始参数中心化，即让随机生成的参数满足以0为均值，根号下(2/当前层输入特征个数)为标准差的正态分布"
   ]
  }
 ],
 "metadata": {
  "kernelspec": {
   "display_name": "Python 3",
   "language": "python",
   "name": "python3"
  },
  "language_info": {
   "codemirror_mode": {
    "name": "ipython",
    "version": 3
   },
   "file_extension": ".py",
   "mimetype": "text/x-python",
   "name": "python",
   "nbconvert_exporter": "python",
   "pygments_lexer": "ipython3",
   "version": "3.8.3"
  }
 },
 "nbformat": 4,
 "nbformat_minor": 4
}
