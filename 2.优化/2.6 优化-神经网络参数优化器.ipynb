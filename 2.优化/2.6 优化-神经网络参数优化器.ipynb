{
 "cells": [
  {
   "cell_type": "markdown",
   "metadata": {},
   "source": [
    "### 1. SGD(无momentum)，常用的梯度下降法"
   ]
  },
  {
   "cell_type": "code",
   "execution_count": null,
   "metadata": {},
   "outputs": [],
   "source": [
    "w1.assign_sub(lr * grads[0])\n",
    "b1.assign_sub(lr * grads[1])"
   ]
  },
  {
   "cell_type": "markdown",
   "metadata": {},
   "source": [
    "### 2. SGDM(含momentum的SGD)，在SGD基础上增加一阶动量"
   ]
  },
  {
   "cell_type": "code",
   "execution_count": null,
   "metadata": {},
   "outputs": [],
   "source": [
    "m_w, m_b = 0, 0\n",
    "beta = 0.9\n",
    "m_w = beta * m_w + (1 - beta) * grads[0]\n",
    "m_b = beta * m_b + (1 - beta) * grads[1]\n",
    "b1.assign_sub(lr * m_b)"
   ]
  },
  {
   "cell_type": "markdown",
   "metadata": {},
   "source": [
    "### 3. Adagrad，在SGD基础上增加二阶动量(可以对模型中的每个参数分配自适应学习率)"
   ]
  },
  {
   "cell_type": "code",
   "execution_count": null,
   "metadata": {},
   "outputs": [],
   "source": [
    "v_w, v_b = 0, 0\n",
    "v_w += tf.square(grads[0])\n",
    "v_b += tf.square(grads[1])\n",
    "w1.assign_sub(lr * grads[0] / tf.sqrt(v_w))\n",
    "b1.assign_sub(lr * grads[1] / tf.sqrt(v_b))"
   ]
  },
  {
   "cell_type": "markdown",
   "metadata": {},
   "source": [
    "### 4. RMSProp，SGD基础上增加二阶动量"
   ]
  },
  {
   "cell_type": "code",
   "execution_count": null,
   "metadata": {},
   "outputs": [],
   "source": [
    "v_w, v_b = 0, 0\n",
    "beta = 0.9\n",
    "v_w = beta * v_w + (1 - beta) * tf.square(grads[0])\n",
    "v_b = beta * v_b + (1 - beta) * tf.square(grads[1])\n",
    "b1.assign_sub(lr * grads[1] / tf.sqrt(v_b))"
   ]
  },
  {
   "cell_type": "markdown",
   "metadata": {},
   "source": [
    "### 5. Adam，同时结合SGDM一阶动量和RMSProp二阶动量"
   ]
  },
  {
   "cell_type": "code",
   "execution_count": null,
   "metadata": {},
   "outputs": [],
   "source": [
    "m_w, m_b = 0, 0\n",
    "v_w, v_b = 0, 0\n",
    "beta1, beta2 = 0.9, 0.999\n",
    "dalta_w, delta_b = 0, 0\n",
    "global_step = 0\n",
    "\n",
    "m_w = beta * m_w + (1 - beta1) * grads[0]\n",
    "m_b = beta * m_b + (1 - beta1) * grads[1]\n",
    "v_w = beta * v_w + (1 - beta2) * tf.square(grads[0])\n",
    "v_b = beta * v_b + (1 - beta2) * tf.square(grads[1])\n",
    "\n",
    "m_w_correction = m_w / (1 - tf.pow(beta1, int(global_step)))\n",
    "m_b_correction = m_b / (1 - tf.pow(beta1, int(global_step)))\n",
    "v_w_correction = v_w / (1 - tf.pow(beta2, int(global_step)))\n",
    "v_b_correction = v_b / (1 - tf.pow(beta2, int(global_step)))\n",
    "\n",
    "w1.assign_sub(lr * m_w_correction / tf.sqrt(v_w_correction))\n",
    "b1.assign_sub(lr * m_b_correction / tf/sqrt(v_b_correction))"
   ]
  }
 ],
 "metadata": {
  "kernelspec": {
   "display_name": "Python 3",
   "language": "python",
   "name": "python3"
  },
  "language_info": {
   "codemirror_mode": {
    "name": "ipython",
    "version": 3
   },
   "file_extension": ".py",
   "mimetype": "text/x-python",
   "name": "python",
   "nbconvert_exporter": "python",
   "pygments_lexer": "ipython3",
   "version": "3.8.3"
  }
 },
 "nbformat": 4,
 "nbformat_minor": 4
}
