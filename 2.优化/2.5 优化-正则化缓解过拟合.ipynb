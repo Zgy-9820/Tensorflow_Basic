{
 "cells": [
  {
   "cell_type": "markdown",
   "metadata": {
    "id": "Gk2fntQzQo7m"
   },
   "source": [
    "### 正则化在损失函数中引入模型复杂度指标，利用给W加权值，弱化了训练数据的噪声(一般不正则化b)\n",
    "### loss = loss(y与y_) + REGULARIZER * loss(w)\n",
    "### 其中，\n",
    "### 1) loss(y与y_)：是模型中所有参数的损失函数，如：交叉熵，均方误差\n",
    "### 2) REGULARIZER：用超参数REGULARIZER给出参数w在总loss中的比例，即正则化的权重\n",
    "### 3) loss(w)：需要正则化的参数"
   ]
  },
  {
   "cell_type": "code",
   "execution_count": 1,
   "metadata": {
    "id": "kRccPpHZQo7n"
   },
   "outputs": [],
   "source": [
    "import tensorflow as tf\n",
    "import numpy as np\n",
    "import pandas as pd\n",
    "from matplotlib import pyplot as plt"
   ]
  },
  {
   "cell_type": "code",
   "execution_count": 2,
   "metadata": {
    "id": "A50_tSdMQo7s"
   },
   "outputs": [],
   "source": [
    "df = pd.read_csv('dot.csv')\n",
    "x_data = np.array(df[['x1', 'x2']])\n",
    "y_data = np.array(df['y_c'])\n",
    "\n",
    "x_train = np.vstack(x_data).reshape(-1,2)\n",
    "y_train = np.vstack(y_data).reshape(-1,1)\n",
    "\n",
    "Y_c = [['red' if y else 'blue'] for y in y_train]"
   ]
  },
  {
   "cell_type": "code",
   "execution_count": 3,
   "metadata": {
    "id": "5zYs4ougQo7w"
   },
   "outputs": [],
   "source": [
    "x_train = tf.cast(x_train, tf.float32)\n",
    "y_train = tf.cast(y_train, tf.float32)"
   ]
  },
  {
   "cell_type": "code",
   "execution_count": 4,
   "metadata": {
    "id": "YhZssCx9Qo70"
   },
   "outputs": [],
   "source": [
    "train_db = tf.data.Dataset.from_tensor_slices((x_train, y_train)).batch(32)"
   ]
  },
  {
   "cell_type": "code",
   "execution_count": 5,
   "metadata": {
    "id": "HPkLj6poQo74"
   },
   "outputs": [],
   "source": [
    "w1 = tf.Variable(tf.random.normal([2, 11]), dtype=tf.float32)\n",
    "b1 = tf.Variable(tf.constant(0.01, shape=[11]))\n",
    "\n",
    "w2 = tf.Variable(tf.random.normal([11, 1]), dtype=tf.float32)\n",
    "b2 = tf.Variable(tf.constant(0.01, shape=[1]))\n",
    "\n",
    "lr = 0.01\n",
    "epoch = 800"
   ]
  },
  {
   "cell_type": "code",
   "execution_count": 6,
   "metadata": {
    "colab": {
     "base_uri": "https://localhost:8080/",
     "height": 713
    },
    "id": "-M7sXSrAQo78",
    "outputId": "4f0a5db4-8b0b-4202-b07b-3d67ab0b9439"
   },
   "outputs": [
    {
     "name": "stdout",
     "output_type": "stream",
     "text": [
      "epoch: 0 loss: 0.8466874957084656\n",
      "epoch: 20 loss: 0.2521463930606842\n",
      "epoch: 40 loss: 0.21713823080062866\n",
      "epoch: 60 loss: 0.19417652487754822\n",
      "epoch: 80 loss: 0.1758977323770523\n",
      "epoch: 100 loss: 0.15967607498168945\n",
      "epoch: 120 loss: 0.1459168642759323\n",
      "epoch: 140 loss: 0.13468948006629944\n",
      "epoch: 160 loss: 0.12521418929100037\n",
      "epoch: 180 loss: 0.11751632392406464\n",
      "epoch: 200 loss: 0.11077212542295456\n",
      "epoch: 220 loss: 0.10364515334367752\n",
      "epoch: 240 loss: 0.09887232631444931\n",
      "epoch: 260 loss: 0.09536384791135788\n",
      "epoch: 280 loss: 0.09245584905147552\n",
      "epoch: 300 loss: 0.09009568393230438\n",
      "epoch: 320 loss: 0.0881105437874794\n",
      "epoch: 340 loss: 0.08646281808614731\n",
      "epoch: 360 loss: 0.0849636048078537\n",
      "epoch: 380 loss: 0.0837101936340332\n",
      "epoch: 400 loss: 0.08257213234901428\n",
      "epoch: 420 loss: 0.08166047930717468\n",
      "epoch: 440 loss: 0.08093777298927307\n",
      "epoch: 460 loss: 0.08032219111919403\n",
      "epoch: 480 loss: 0.07968068867921829\n",
      "epoch: 500 loss: 0.07909936457872391\n",
      "epoch: 520 loss: 0.078431636095047\n",
      "epoch: 540 loss: 0.0778692290186882\n",
      "epoch: 560 loss: 0.07726582884788513\n",
      "epoch: 580 loss: 0.0767737478017807\n",
      "epoch: 600 loss: 0.07619798928499222\n",
      "epoch: 620 loss: 0.07577444612979889\n",
      "epoch: 640 loss: 0.0755435973405838\n",
      "epoch: 660 loss: 0.07512807101011276\n",
      "epoch: 680 loss: 0.07474341988563538\n",
      "epoch: 700 loss: 0.07439523935317993\n",
      "epoch: 720 loss: 0.07407807558774948\n",
      "epoch: 740 loss: 0.07373709231615067\n",
      "epoch: 760 loss: 0.07346691191196442\n",
      "epoch: 780 loss: 0.07336513698101044\n"
     ]
    }
   ],
   "source": [
    "for epoch in range(epoch):\n",
    "    for step, (x_train, y_train) in enumerate(train_db):\n",
    "        with tf.GradientTape() as tape:  # 记录梯度信息\n",
    "\n",
    "            h1 = tf.matmul(x_train, w1) + b1  # 记录神经网络乘加运算\n",
    "            h1 = tf.nn.relu(h1)\n",
    "            y = tf.matmul(h1, w2) + b2\n",
    "\n",
    "            # 采用均方误差损失函数mse = mean(sum(y-out)^2)\n",
    "            loss_mse = tf.reduce_mean(tf.square(y_train - y))\n",
    "            # 添加l2正则化\n",
    "            loss_regularization = []\n",
    "            # tf.nn.l2_loss(w)=sum(w ** 2) / 2\n",
    "            loss_regularization.append(tf.nn.l2_loss(w1))\n",
    "            loss_regularization.append(tf.nn.l2_loss(w2))\n",
    "            # 求和\n",
    "            # 例：x=tf.constant(([1,1,1],[1,1,1]))\n",
    "            #   tf.reduce_sum(x)\n",
    "            # >>>6\n",
    "            # loss_regularization = tf.reduce_sum(tf.stack(loss_regularization))\n",
    "            loss_regularization = tf.reduce_sum(loss_regularization)\n",
    "            loss = loss_mse + 0.03 * loss_regularization #REGULARIZER = 0.03\n",
    "\n",
    "        # 计算loss对各个参数的梯度\n",
    "        variables = [w1, b1, w2, b2]\n",
    "        grads = tape.gradient(loss, variables)\n",
    "\n",
    "        # 实现梯度更新\n",
    "        # w1 = w1 - lr * w1_grad\n",
    "        w1.assign_sub(lr * grads[0])\n",
    "        b1.assign_sub(lr * grads[1])\n",
    "        w2.assign_sub(lr * grads[2])\n",
    "        b2.assign_sub(lr * grads[3])\n",
    "\n",
    "    # 每200个epoch，打印loss信息\n",
    "    if epoch % 20 == 0:\n",
    "        print('epoch:', epoch, 'loss:', float(loss))"
   ]
  },
  {
   "cell_type": "code",
   "execution_count": 7,
   "metadata": {
    "colab": {
     "base_uri": "https://localhost:8080/",
     "height": 174
    },
    "id": "YCAntwsEQo8B",
    "outputId": "8baff3b9-f60e-4cbe-91b3-e1fad63a8d95"
   },
   "outputs": [
    {
     "name": "stdout",
     "output_type": "stream",
     "text": [
      "*******predict*******\n",
      "tf.Tensor(\n",
      "[[-3.   -3.  ]\n",
      " [-3.   -2.99]\n",
      " [-3.   -2.98]\n",
      " ...\n",
      " [ 2.99  2.97]\n",
      " [ 2.99  2.98]\n",
      " [ 2.99  2.99]], shape=(360000, 2), dtype=float32)\n"
     ]
    }
   ],
   "source": [
    "print(\"*******predict*******\")\n",
    "# xx在-3到3之间以步长为0.01，yy在-3到3之间以步长0.01,生成间隔数值点\n",
    "xx, yy = np.mgrid[-3:3:.01, -3:3:.01]\n",
    "# 将xx , yy拉直，并合并配对为二维张量，生成二维坐标点\n",
    "grid = np.c_[xx.ravel(), yy.ravel()]\n",
    "grid = tf.cast(grid, tf.float32)\n",
    "# 将网格坐标点喂入神经网络，进行预测，probs为输出\n",
    "probs = []\n",
    "print(grid)"
   ]
  },
  {
   "cell_type": "code",
   "execution_count": 8,
   "metadata": {
    "id": "iBp55parQo8F"
   },
   "outputs": [],
   "source": [
    "for x_test in grid:\n",
    "    # 使用训练好的参数进行预测\n",
    "    h1 = tf.matmul([x_test], w1) + b1\n",
    "    h1 = tf.nn.relu(h1)\n",
    "    y = tf.matmul(h1, w2) + b2  # y为预测结果\n",
    "    probs.append(y)"
   ]
  },
  {
   "cell_type": "code",
   "execution_count": 9,
   "metadata": {
    "colab": {
     "base_uri": "https://localhost:8080/",
     "height": 283
    },
    "id": "lN0Dy11fQo8J",
    "outputId": "c2aab3a0-8524-4a57-95dc-206896667542"
   },
   "outputs": [
    {
     "data": {
      "text/plain": [
       "<matplotlib.contour.QuadContourSet at 0x7f6b6542e940>"
      ]
     },
     "execution_count": 9,
     "metadata": {},
     "output_type": "execute_result"
    },
    {
     "data": {
      "image/png": "[encoded data removed]",
      "text/plain": [
       "<Figure size 432x288 with 1 Axes>"
      ]
     },
     "metadata": {
      "needs_background": "light"
     },
     "output_type": "display_data"
    }
   ],
   "source": [
    "# 取第0列给x1，取第1列给x2\n",
    "x1 = x_data[:, 0]\n",
    "x2 = x_data[:, 1]\n",
    "# probs的shape调整成xx的样子\n",
    "probs = np.array(probs).reshape(xx.shape)\n",
    "plt.scatter(x1, x2, color=np.squeeze(Y_c)) #squeeze去掉纬度是1的纬度,相当于去掉[['red'],[''blue]],内层括号变为['red','blue']\n",
    "# 把坐标xx yy和对应的值probs放入contour<[‘kɑntʊr]>函数，给probs值为0.5的所有点上色  plt点show后 显示的是红蓝点的分界线\n",
    "plt.contour(xx, yy, probs, levels=[.5])"
   ]
  }
 ],
 "metadata": {
  "accelerator": "GPU",
  "colab": {
   "name": "2.5 优化-正则化缓解过拟合.ipynb",
   "provenance": [],
   "toc_visible": true
  },
  "kernelspec": {
   "display_name": "Python 3",
   "language": "python",
   "name": "python3"
  },
  "language_info": {
   "codemirror_mode": {
    "name": "ipython",
    "version": 3
   },
   "file_extension": ".py",
   "mimetype": "text/x-python",
   "name": "python",
   "nbconvert_exporter": "python",
   "pygments_lexer": "ipython3",
   "version": "3.8.3"
  }
 },
 "nbformat": 4,
 "nbformat_minor": 1
}
