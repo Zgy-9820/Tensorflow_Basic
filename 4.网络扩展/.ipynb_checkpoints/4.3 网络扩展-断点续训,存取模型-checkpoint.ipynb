{
 "cells": [
  {
   "cell_type": "markdown",
   "metadata": {},
   "source": [
    "### 1. 读取模型：load_weights(路径文件名)"
   ]
  },
  {
   "cell_type": "code",
   "execution_count": null,
   "metadata": {},
   "outputs": [],
   "source": [
    "# 先定义出存放模型的路径和文件名,命名为ckpt文件\n",
    "checkpoint_save_path = \"./checkpoint/mnist.ckpt\"\n",
    "# 因为生成ckpt文件时,会同步生成索引表,所以通过判断是不是已经有了索引表,就知道是不是已经保存过模型参数了\n",
    "if os.path.exists(checkpoint_save_path + '.index'):\n",
    "    print('-------------load the model-----------------')\n",
    "    # 如果有了索引表,就可以调用load_weights()读取模型参数\n",
    "    model.load_weights(checkpoint_save_path)"
   ]
  },
  {
   "cell_type": "markdown",
   "metadata": {},
   "source": [
    "### 2. 保存模型：\n",
    "#### tf.keras.callbacks.ModelCheckpoint(\n",
    "#### filepath=路径文件名,\n",
    "#### save_weights_only=True/False,\n",
    "#### save_best_only=True/False)\n",
    "#### history = model.fit(callbacks=[cp_callback])"
   ]
  },
  {
   "cell_type": "code",
   "execution_count": null,
   "metadata": {},
   "outputs": [],
   "source": [
    "# 保存模型可以使用Tensorflow给出的回调函数,直接保存训练出来的模型参数\n",
    "cp_callback = tf.keras.callbacks.ModelCheckpoint(filepath=checkpoint_save_path,  # 告知模型存储路径\n",
    "                                                 save_weights_only=True,  # 只保留模型参数\n",
    "                                                 save_best_only=True)  # 只保留最优模型\n",
    "\n",
    "# 执行训练过程时,加入callbacks选项,记录到history中\n",
    "history = model.fit(x_train, y_train, batch_size=32, epochs=5, validation_data=(x_test, y_test), validation_freq=1,\n",
    "                    callbacks=[cp_callback])"
   ]
  },
  {
   "cell_type": "markdown",
   "metadata": {},
   "source": [
    "### 例："
   ]
  },
  {
   "cell_type": "code",
   "execution_count": 1,
   "metadata": {},
   "outputs": [],
   "source": [
    "import tensorflow as tf\n",
    "import os"
   ]
  },
  {
   "cell_type": "code",
   "execution_count": 2,
   "metadata": {},
   "outputs": [],
   "source": [
    "mnist = tf.keras.datasets.mnist\n",
    "(x_train, y_train), (x_test, y_test) = mnist.load_data()\n",
    "x_train, x_test = x_train / 255.0, x_test / 255.0"
   ]
  },
  {
   "cell_type": "code",
   "execution_count": 3,
   "metadata": {},
   "outputs": [],
   "source": [
    "model = tf.keras.models.Sequential([\n",
    "    tf.keras.layers.Flatten(),\n",
    "    tf.keras.layers.Dense(128, activation='relu'),\n",
    "    tf.keras.layers.Dense(10, activation='softmax')\n",
    "])"
   ]
  },
  {
   "cell_type": "code",
   "execution_count": 4,
   "metadata": {},
   "outputs": [],
   "source": [
    "model.compile(optimizer='adam',\n",
    "              loss=tf.keras.losses.SparseCategoricalCrossentropy(from_logits=False),\n",
    "              metrics=['sparse_categorical_accuracy'])"
   ]
  },
  {
   "cell_type": "code",
   "execution_count": 5,
   "metadata": {},
   "outputs": [],
   "source": [
    "# 先定义出存放模型的路径和文件名,命名为ckpt文件\n",
    "checkpoint_save_path = \"./checkpoint/mnist.ckpt\"\n",
    "# 因为生成ckpt文件时,会同步生成索引表,所以通过判断是不是已经有了索引表,就知道是不是已经保存过模型参数了\n",
    "if os.path.exists(checkpoint_save_path + '.index'):\n",
    "    print('-------------load the model-----------------')\n",
    "    # 如果有了索引表,就可以调用load_weights()读取模型参数\n",
    "    model.load_weights(checkpoint_save_path)"
   ]
  },
  {
   "cell_type": "code",
   "execution_count": 6,
   "metadata": {},
   "outputs": [
    {
     "name": "stdout",
     "output_type": "stream",
     "text": [
      "Epoch 1/5\n",
      "1875/1875 [==============================] - 3s 2ms/step - loss: 0.2598 - sparse_categorical_accuracy: 0.9255 - val_loss: 0.1326 - val_sparse_categorical_accuracy: 0.9596\n",
      "Epoch 2/5\n",
      "1875/1875 [==============================] - 3s 2ms/step - loss: 0.1127 - sparse_categorical_accuracy: 0.9661 - val_loss: 0.1020 - val_sparse_categorical_accuracy: 0.9705\n",
      "Epoch 3/5\n",
      "1875/1875 [==============================] - 3s 2ms/step - loss: 0.0787 - sparse_categorical_accuracy: 0.9766 - val_loss: 0.1007 - val_sparse_categorical_accuracy: 0.9674\n",
      "Epoch 4/5\n",
      "1875/1875 [==============================] - 3s 2ms/step - loss: 0.0595 - sparse_categorical_accuracy: 0.9810 - val_loss: 0.0799 - val_sparse_categorical_accuracy: 0.9758\n",
      "Epoch 5/5\n",
      "1875/1875 [==============================] - 3s 2ms/step - loss: 0.0468 - sparse_categorical_accuracy: 0.9858 - val_loss: 0.0870 - val_sparse_categorical_accuracy: 0.9738\n"
     ]
    }
   ],
   "source": [
    "# 保存模型可以使用Tensorflow给出的回调函数,直接保存训练出来的模型参数\n",
    "cp_callback = tf.keras.callbacks.ModelCheckpoint(filepath=checkpoint_save_path,  # 告知模型存储路径\n",
    "                                                 save_weights_only=True,  # 只保留模型参数\n",
    "                                                 save_best_only=True)  # 只保留最优模型\n",
    "\n",
    "# 执行训练过程时,加入callbacks选项,记录到history中\n",
    "history = model.fit(x_train, y_train, batch_size=32, epochs=5, validation_data=(x_test, y_test), validation_freq=1,\n",
    "                    callbacks=[cp_callback])"
   ]
  },
  {
   "cell_type": "code",
   "execution_count": 7,
   "metadata": {},
   "outputs": [
    {
     "name": "stdout",
     "output_type": "stream",
     "text": [
      "Model: \"sequential\"\n",
      "_________________________________________________________________\n",
      "Layer (type)                 Output Shape              Param #   \n",
      "=================================================================\n",
      "flatten (Flatten)            multiple                  0         \n",
      "_________________________________________________________________\n",
      "dense (Dense)                multiple                  100480    \n",
      "_________________________________________________________________\n",
      "dense_1 (Dense)              multiple                  1290      \n",
      "=================================================================\n",
      "Total params: 101,770\n",
      "Trainable params: 101,770\n",
      "Non-trainable params: 0\n",
      "_________________________________________________________________\n"
     ]
    }
   ],
   "source": [
    "model.summary()"
   ]
  }
 ],
 "metadata": {
  "kernelspec": {
   "display_name": "Python 3",
   "language": "python",
   "name": "python3"
  },
  "language_info": {
   "codemirror_mode": {
    "name": "ipython",
    "version": 3
   },
   "file_extension": ".py",
   "mimetype": "text/x-python",
   "name": "python",
   "nbconvert_exporter": "python",
   "pygments_lexer": "ipython3",
   "version": "3.8.3"
  }
 },
 "nbformat": 4,
 "nbformat_minor": 4
}
