{
 "cells": [
  {
   "cell_type": "markdown",
   "metadata": {},
   "source": [
    "### 前向传播执行应用\n",
    "### predict(输入特征, batch_size=整数)\n",
    "### 返回前向传播计算结果"
   ]
  },
  {
   "cell_type": "code",
   "execution_count": null,
   "metadata": {},
   "outputs": [],
   "source": [
    "#复现模型(前向传播)\n",
    "model = tf.keras.models.Sequential([\n",
    "    tf.keras.layers.Flatten(),\n",
    "    tf.keras.layers.Dense(128, activation='relu'),\n",
    "    tf.keras.layers.Dense(10, activation='softmax')\n",
    "])"
   ]
  },
  {
   "cell_type": "code",
   "execution_count": null,
   "metadata": {},
   "outputs": [],
   "source": [
    "#加载参数\n",
    "model.load_weights(model_save_path)"
   ]
  },
  {
   "cell_type": "code",
   "execution_count": null,
   "metadata": {},
   "outputs": [],
   "source": [
    "#预测结果\n",
    "result = model.predict(x_predict)"
   ]
  },
  {
   "cell_type": "markdown",
   "metadata": {},
   "source": [
    "### 例：识别文件夹中的十张数字图片"
   ]
  },
  {
   "cell_type": "code",
   "execution_count": 1,
   "metadata": {},
   "outputs": [],
   "source": [
    "from PIL import Image\n",
    "import numpy as np\n",
    "import tensorflow as tf"
   ]
  },
  {
   "cell_type": "code",
   "execution_count": 2,
   "metadata": {},
   "outputs": [],
   "source": [
    "model_save_path = './checkpoint/mnist.ckpt'"
   ]
  },
  {
   "cell_type": "code",
   "execution_count": 3,
   "metadata": {},
   "outputs": [],
   "source": [
    "# 复现网络\n",
    "model = tf.keras.models.Sequential([\n",
    "    tf.keras.layers.Flatten(),\n",
    "    tf.keras.layers.Dense(128, activation='relu'),\n",
    "    tf.keras.layers.Dense(10, activation='softmax')])"
   ]
  },
  {
   "cell_type": "code",
   "execution_count": 4,
   "metadata": {},
   "outputs": [
    {
     "data": {
      "text/plain": [
       "<tensorflow.python.training.tracking.util.CheckpointLoadStatus at 0x7f24191adc70>"
      ]
     },
     "execution_count": 4,
     "metadata": {},
     "output_type": "execute_result"
    }
   ],
   "source": [
    "model.load_weights(model_save_path)"
   ]
  },
  {
   "cell_type": "code",
   "execution_count": 5,
   "metadata": {},
   "outputs": [
    {
     "name": "stdout",
     "output_type": "stream",
     "text": [
      "input the number of test pictures:10\n"
     ]
    }
   ],
   "source": [
    "# 询问执行多少次图像识别任务\n",
    "preNum = int(input(\"input the number of test pictures:\"))"
   ]
  },
  {
   "cell_type": "code",
   "execution_count": 6,
   "metadata": {},
   "outputs": [
    {
     "name": "stdout",
     "output_type": "stream",
     "text": [
      "the path of test picture:0.png\n",
      "\n",
      "\n",
      "[0]\n",
      "the path of test picture:1.png\n",
      "\n",
      "\n",
      "[1]\n",
      "the path of test picture:2.png\n",
      "\n",
      "\n",
      "[2]\n",
      "the path of test picture:3.png\n",
      "\n",
      "\n",
      "[3]\n",
      "the path of test picture:4.png\n",
      "\n",
      "\n",
      "[4]\n",
      "the path of test picture:5.png\n",
      "\n",
      "\n",
      "[5]\n",
      "the path of test picture:6.png\n",
      "\n",
      "\n",
      "[6]\n",
      "the path of test picture:7.png\n",
      "\n",
      "\n",
      "[2]\n",
      "the path of test picture:8.png\n",
      "\n",
      "\n",
      "[8]\n",
      "the path of test picture:9.png\n",
      "\n",
      "\n",
      "[9]\n"
     ]
    }
   ],
   "source": [
    "# 读入带识别的图片\n",
    "for i in range(preNum):\n",
    "    image_path = input(\"the path of test picture:\")\n",
    "    img = Image.open(image_path)\n",
    "    # 因为训练模型时用的图片是28行28列的灰度图,输入是任意尺寸的图片,需要先resize成28行28列的标准尺寸\n",
    "    img = img.resize((28, 28), Image.ANTIALIAS) #高质量转换图片大小\n",
    "    # 转换为灰度图\n",
    "    img_arr = np.array(img.convert('L'))\n",
    "\n",
    "    # 预处理(因为给的图片是白底黑子,训练时图片为黑底白字,这里要把像素点小于200的变为255白色,其余的变为0黑色)\n",
    "    for i in range(28):\n",
    "        for j in range(28):\n",
    "            if img_arr[i][j] < 200:\n",
    "                img_arr[i][j] = 255\n",
    "            else:\n",
    "                img_arr[i][j] = 0\n",
    "\n",
    "    # 对图片数据归一化\n",
    "    img_arr = img_arr / 255.0\n",
    "    # 由于神经网络训练时都是按batch送入网络的,所以进入predict函数前先要把img_arr前面添加一个维度,\n",
    "    # img_arr: (28, 28) / x_predict: (1, 28, 28)\n",
    "    x_predict = img_arr[tf.newaxis, ...]\n",
    "    # 把最大的概率值输出\n",
    "    result = model.predict(x_predict)\n",
    "\n",
    "    # 返回预测结果\n",
    "    pred = tf.argmax(result, axis=1)\n",
    "\n",
    "    print('\\n')\n",
    "    tf.print(pred)"
   ]
  }
 ],
 "metadata": {
  "kernelspec": {
   "display_name": "Python 3",
   "language": "python",
   "name": "python3"
  },
  "language_info": {
   "codemirror_mode": {
    "name": "ipython",
    "version": 3
   },
   "file_extension": ".py",
   "mimetype": "text/x-python",
   "name": "python",
   "nbconvert_exporter": "python",
   "pygments_lexer": "ipython3",
   "version": "3.8.3"
  }
 },
 "nbformat": 4,
 "nbformat_minor": 4
}
