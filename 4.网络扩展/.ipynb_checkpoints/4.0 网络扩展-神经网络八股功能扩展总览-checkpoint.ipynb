{
 "cells": [
  {
   "cell_type": "markdown",
   "metadata": {},
   "source": [
    "### 1. 自制数据集，解决本领域应用\n",
    "### 2. 数据增强，扩充数据集(数据增强在小数据量上，可以增加模型泛化性)\n",
    "### 3. 断点续训，存取模型\n",
    "### 4. 参数提取，把参数存入文本\n",
    "### 5. acc/loss可视化，查看训练结果\n",
    "### 6. 应用程序，给图识物"
   ]
  }
 ],
 "metadata": {
  "kernelspec": {
   "display_name": "Python 3",
   "language": "python",
   "name": "python3"
  },
  "language_info": {
   "codemirror_mode": {
    "name": "ipython",
    "version": 3
   },
   "file_extension": ".py",
   "mimetype": "text/x-python",
   "name": "python",
   "nbconvert_exporter": "python",
   "pygments_lexer": "ipython3",
   "version": "3.8.3"
  }
 },
 "nbformat": 4,
 "nbformat_minor": 4
}
