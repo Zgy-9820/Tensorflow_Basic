{
 "cells": [
  {
   "cell_type": "markdown",
   "metadata": {
    "id": "GqkLrBYFGL5x"
   },
   "source": [
    "### image_gen_train = tf.keras.preprocessing.image.ImageDataGenerator(\n",
    "### rescale = 所有数据将乘以该数值\n",
    "### rotation_range = 随机旋转角度数范围\n",
    "### width_shift_range = 随机宽度偏移量\n",
    "### height_shift_range = 随机高度偏移量\n",
    "### 水平翻转：horizontal_flip = 是否随机水平翻转\n",
    "### 随机缩放：zoom_range = 随机缩放的范围[1-n, 1+n])\n",
    "## ------------------------------------------------------------\n",
    "### image_gen_train.fit(x_train)  ps. 要训练的x_train必须为四维数组"
   ]
  },
  {
   "cell_type": "code",
   "execution_count": 1,
   "metadata": {
    "id": "SgxqlXTVGL5z"
   },
   "outputs": [],
   "source": [
    "import tensorflow as tf\n",
    "from tensorflow.keras.preprocessing.image import ImageDataGenerator"
   ]
  },
  {
   "cell_type": "code",
   "execution_count": 2,
   "metadata": {
    "id": "w50hvdUnGL54"
   },
   "outputs": [],
   "source": [
    "mnist = tf.keras.datasets.mnist\n",
    "(x_train, y_train), (x_test, y_test) = mnist.load_data()\n",
    "x_train, x_test = x_train / 255.0, x_test / 255.0\n",
    "x_train = x_train.reshape(x_train.shape[0], 28, 28, 1)  # 给数据增加一个维度,从(60000, 28, 28)reshape为(60000, 28, 28, 1)"
   ]
  },
  {
   "cell_type": "code",
   "execution_count": 3,
   "metadata": {
    "id": "OcWp-VSCGL59"
   },
   "outputs": [],
   "source": [
    "image_gen_train = ImageDataGenerator(\n",
    "    rescale=1. / 1.,  # 如为图像，分母为255时，可归至0～1\n",
    "    rotation_range=45,  # 随机45度旋转\n",
    "    width_shift_range=.15,  # 宽度偏移\n",
    "    height_shift_range=.15,  # 高度偏移\n",
    "    horizontal_flip=False,  # 水平翻转\n",
    "    zoom_range=0.5  # 将图像随机缩放阈量50％\n",
    ")"
   ]
  },
  {
   "cell_type": "code",
   "execution_count": 4,
   "metadata": {
    "id": "l8MVQRHiGL6B"
   },
   "outputs": [],
   "source": [
    "image_gen_train.fit(x_train)"
   ]
  },
  {
   "cell_type": "code",
   "execution_count": 5,
   "metadata": {
    "id": "jF_cJMFvGL6F"
   },
   "outputs": [],
   "source": [
    "model = tf.keras.models.Sequential([\n",
    "    tf.keras.layers.Flatten(),\n",
    "    tf.keras.layers.Dense(128, activation='relu'),\n",
    "    tf.keras.layers.Dense(10, activation='softmax')\n",
    "])"
   ]
  },
  {
   "cell_type": "code",
   "execution_count": 6,
   "metadata": {
    "id": "0ASb-ZYeGL6J"
   },
   "outputs": [],
   "source": [
    "model.compile(optimizer='adam',\n",
    "              loss=tf.keras.losses.SparseCategoricalCrossentropy(from_logits=False),\n",
    "              metrics=['sparse_categorical_accuracy'])"
   ]
  },
  {
   "cell_type": "code",
   "execution_count": 7,
   "metadata": {
    "colab": {
     "base_uri": "https://localhost:8080/",
     "height": 246
    },
    "id": "zBEj9J1TGL6N",
    "outputId": "0cb234f2-3d4c-4d65-bfbe-a35807add03e"
   },
   "outputs": [
    {
     "name": "stdout",
     "output_type": "stream",
     "text": [
      "Epoch 1/5\n",
      "1874/1875 [============================>.] - ETA: 0s - loss: 1.4114 - sparse_categorical_accuracy: 0.5470WARNING:tensorflow:Model was constructed with shape (None, None, None, None) for input Tensor(\"flatten_input_1:0\", shape=(None, None, None, None), dtype=float32), but it was called on an input with incompatible shape (None, 28, 28).\n",
      "1875/1875 [==============================] - 15s 8ms/step - loss: 1.4114 - sparse_categorical_accuracy: 0.5471 - val_loss: 0.4572 - val_sparse_categorical_accuracy: 0.8858\n",
      "Epoch 2/5\n",
      "1875/1875 [==============================] - 15s 8ms/step - loss: 0.9548 - sparse_categorical_accuracy: 0.7111 - val_loss: 0.3239 - val_sparse_categorical_accuracy: 0.9151\n",
      "Epoch 3/5\n",
      "1875/1875 [==============================] - 15s 8ms/step - loss: 0.8299 - sparse_categorical_accuracy: 0.7519 - val_loss: 0.2907 - val_sparse_categorical_accuracy: 0.9197\n",
      "Epoch 4/5\n",
      "1875/1875 [==============================] - 15s 8ms/step - loss: 0.7551 - sparse_categorical_accuracy: 0.7719 - val_loss: 0.2352 - val_sparse_categorical_accuracy: 0.9379\n",
      "Epoch 5/5\n",
      "1875/1875 [==============================] - 15s 8ms/step - loss: 0.7081 - sparse_categorical_accuracy: 0.7869 - val_loss: 0.2424 - val_sparse_categorical_accuracy: 0.9344\n"
     ]
    },
    {
     "data": {
      "text/plain": [
       "<tensorflow.python.keras.callbacks.History at 0x7f83ed68d898>"
      ]
     },
     "execution_count": 7,
     "metadata": {
      "tags": []
     },
     "output_type": "execute_result"
    }
   ],
   "source": [
    "model.fit(image_gen_train.flow(x_train, y_train, batch_size=32), epochs=5, validation_data=(x_test, y_test), \n",
    "          validation_freq=1)"
   ]
  },
  {
   "cell_type": "code",
   "execution_count": 8,
   "metadata": {
    "colab": {
     "base_uri": "https://localhost:8080/",
     "height": 261
    },
    "id": "dT0nN_uUGL6S",
    "outputId": "430311ea-953f-4320-c60a-55ae612ee07f"
   },
   "outputs": [
    {
     "name": "stdout",
     "output_type": "stream",
     "text": [
      "Model: \"sequential\"\n",
      "_________________________________________________________________\n",
      "Layer (type)                 Output Shape              Param #   \n",
      "=================================================================\n",
      "flatten (Flatten)            (None, None)              0         \n",
      "_________________________________________________________________\n",
      "dense (Dense)                (None, 128)               100480    \n",
      "_________________________________________________________________\n",
      "dense_1 (Dense)              (None, 10)                1290      \n",
      "=================================================================\n",
      "Total params: 101,770\n",
      "Trainable params: 101,770\n",
      "Non-trainable params: 0\n",
      "_________________________________________________________________\n"
     ]
    }
   ],
   "source": [
    "model.summary()"
   ]
  }
 ],
 "metadata": {
  "accelerator": "TPU",
  "colab": {
   "name": "4.2 网络扩展-数据增强(增大数据量).ipynb",
   "provenance": []
  },
  "kernelspec": {
   "display_name": "Python 3",
   "language": "python",
   "name": "python3"
  },
  "language_info": {
   "codemirror_mode": {
    "name": "ipython",
    "version": 3
   },
   "file_extension": ".py",
   "mimetype": "text/x-python",
   "name": "python",
   "nbconvert_exporter": "python",
   "pygments_lexer": "ipython3",
   "version": "3.8.3"
  }
 },
 "nbformat": 4,
 "nbformat_minor": 1
}
