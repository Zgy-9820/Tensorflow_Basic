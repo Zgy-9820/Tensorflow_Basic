{
 "cells": [
  {
   "cell_type": "markdown",
   "metadata": {
    "id": "TdwSs0uyYFKg"
   },
   "source": [
    "### 1.张量\n",
    "### 张量 (Tensor)：多维数组(列表)  阶：张量的维数，\n",
    "### 张量可以表示0阶到n阶的数组 例：t = [[[  (表示3阶数组)"
   ]
  },
  {
   "cell_type": "markdown",
   "metadata": {
    "id": "PLYfWlX0YFKi"
   },
   "source": [
    "### 2.数据类型\n",
    "### 1) tf.int, tf.float... : tf.int32, tf.float32, tf.float64\n",
    "### 2) tf.bool : tf.constant([True,False])\n",
    "### 3) tf.string: tf.constant(\"hello\")"
   ]
  },
  {
   "cell_type": "markdown",
   "metadata": {
    "id": "0bjTiiD7YFKj"
   },
   "source": [
    "### 3.如何创建一个Tensor\n"
   ]
  },
  {
   "cell_type": "markdown",
   "metadata": {
    "id": "H7iGMSz0a92j"
   },
   "source": [
    "### 1.1)tf.constant(张量内容， dtype=数据类型(可选))"
   ]
  },
  {
   "cell_type": "code",
   "execution_count": 1,
   "metadata": {
    "colab": {
     "background_save": true
    },
    "id": "Hcgn2G9jYFKk"
   },
   "outputs": [
    {
     "name": "stdout",
     "output_type": "stream",
     "text": [
      "tf.Tensor([1 5], shape=(2,), dtype=int64)\n",
      "<dtype: 'int64'>\n",
      "(2,)\n"
     ]
    }
   ],
   "source": [
    "import tensorflow as tf\n",
    "a = tf.constant([1,5], dtype=tf.int64)\n",
    "print(a) #依次一次输出：张量的内容/张量的形状(逗号隔开几个数字张量就是几维的，下图说明一个一维的有两个元素的张量)/张量的数据类型\n",
    "print(a.dtype)\n",
    "print(a.shape)"
   ]
  },
  {
   "cell_type": "markdown",
   "metadata": {
    "id": "CUJ0pWnoYFKq"
   },
   "source": [
    "### 1.2)将numpy 的数据类型转换为Tensor数据类型\n",
    "###  tf.convert_to_tensor(数据名，dtype=数据类型(可选))"
   ]
  },
  {
   "cell_type": "code",
   "execution_count": 2,
   "metadata": {
    "id": "UbXqkNjqYFKq"
   },
   "outputs": [
    {
     "name": "stdout",
     "output_type": "stream",
     "text": [
      "[0 1 2 3 4]\n",
      "tf.Tensor([0 5], shape=(2,), dtype=int32)\n"
     ]
    }
   ],
   "source": [
    "import numpy as np\n",
    "a = np.arange(0,5)\n",
    "b = tf.constant([0, 5])\n",
    "print(a)\n",
    "print(b)"
   ]
  },
  {
   "cell_type": "markdown",
   "metadata": {
    "id": "mPKK8-90YFKw"
   },
   "source": [
    "### 2.1)创建全为0的张量: tf.zeros(维度)\n"
   ]
  },
  {
   "cell_type": "markdown",
   "metadata": {
    "id": "uJnuu2TmbDGQ"
   },
   "source": [
    "### 2.2)创建全为1的张量: tf.ones(维度)"
   ]
  },
  {
   "cell_type": "markdown",
   "metadata": {
    "id": "xVP9Ay-UbGhY"
   },
   "source": [
    "### 2.3)创建全为指定值的张量: tf.fill(维度，指定值)"
   ]
  },
  {
   "cell_type": "code",
   "execution_count": 3,
   "metadata": {
    "id": "paUDaGvdYFKw"
   },
   "outputs": [
    {
     "name": "stdout",
     "output_type": "stream",
     "text": [
      "tf.Tensor(\n",
      "[[0. 0. 0.]\n",
      " [0. 0. 0.]], shape=(2, 3), dtype=float32)\n",
      "tf.Tensor([1. 1. 1. 1.], shape=(4,), dtype=float32)\n",
      "tf.Tensor(\n",
      "[[9 9]\n",
      " [9 9]], shape=(2, 2), dtype=int32)\n"
     ]
    }
   ],
   "source": [
    "a = tf.zeros([2, 3])\n",
    "b = tf.ones(4)\n",
    "c = tf.fill([2, 2], 9)\n",
    "print(a)\n",
    "print(b)\n",
    "print(c)"
   ]
  },
  {
   "cell_type": "markdown",
   "metadata": {},
   "source": [
    "### 3.1)生成正态分布的随机数，默认均值为0，标准差为1\n",
    "### tf.random.normal(维度, mean=均值, stddev=标准差)"
   ]
  },
  {
   "cell_type": "code",
   "execution_count": 4,
   "metadata": {},
   "outputs": [
    {
     "name": "stdout",
     "output_type": "stream",
     "text": [
      "tf.Tensor(\n",
      "[[-1.2826967  0.7812834]\n",
      " [-2.1415598  0.5052034]], shape=(2, 2), dtype=float32)\n"
     ]
    }
   ],
   "source": [
    "d = tf.random.normal([2,2], mean=0.5, stddev=1)\n",
    "print(d)"
   ]
  },
  {
   "cell_type": "markdown",
   "metadata": {},
   "source": [
    "### 3.2)生成截断式正态分布的随机数(可以保证数据在均值正负两倍标准差内)\n",
    "### tf.random.truncated_normal(维度，mean=均值，stddev=标准差)"
   ]
  },
  {
   "cell_type": "code",
   "execution_count": 5,
   "metadata": {},
   "outputs": [
    {
     "name": "stdout",
     "output_type": "stream",
     "text": [
      "tf.Tensor(\n",
      "[[ 0.01502815 -0.7348472 ]\n",
      " [ 0.12096345  0.5002993 ]], shape=(2, 2), dtype=float32)\n"
     ]
    }
   ],
   "source": [
    "e = tf.random.truncated_normal([2,2], mean=0.5, stddev=1)\n",
    "print(e)"
   ]
  },
  {
   "cell_type": "markdown",
   "metadata": {},
   "source": [
    "### 3.3)生成均匀分布随机数 [minval, maxval)\n",
    "### tf.random.uniform(维度， minval=最小值，maxval=最大值)"
   ]
  },
  {
   "cell_type": "code",
   "execution_count": 6,
   "metadata": {},
   "outputs": [
    {
     "name": "stdout",
     "output_type": "stream",
     "text": [
      "tf.Tensor(\n",
      "[[0.25760627 0.89962554]\n",
      " [0.22535062 0.71650577]], shape=(2, 2), dtype=float32)\n"
     ]
    }
   ],
   "source": [
    "f = tf.random.uniform([2,2], minval=0, maxval=1)\n",
    "print(f)"
   ]
  }
 ],
 "metadata": {
  "accelerator": "GPU",
  "colab": {
   "collapsed_sections": [],
   "name": "00 tf笔记.ipynb",
   "provenance": [],
   "toc_visible": true
  },
  "kernelspec": {
   "display_name": "Python 3",
   "language": "python",
   "name": "python3"
  },
  "language_info": {
   "codemirror_mode": {
    "name": "ipython",
    "version": 3
   },
   "file_extension": ".py",
   "mimetype": "text/x-python",
   "name": "python",
   "nbconvert_exporter": "python",
   "pygments_lexer": "ipython3",
   "version": "3.8.3"
  }
 },
 "nbformat": 4,
 "nbformat_minor": 1
}
